{
 "cells": [
  {
   "cell_type": "code",
   "execution_count": 1,
   "id": "af3cfc03-e4aa-467c-b508-1e9d7b7e6a29",
   "metadata": {},
   "outputs": [],
   "source": [
    "import yfinance as yf\n",
    "from datetime import timedelta\n",
    "import os\n",
    "os.chdir(\"../\")\n",
    "from bte.conducted_analysis_and_backtesting.price_volatility_calculation import _get_number_of_negative_events, _get_number_of_positive_events\n",
    "from bte.utils.binance_candle_data import extract_data as download_binance_data\n",
    "from bte.utils.yahoo_finance_candle_data import download_data as download_yf_data"
   ]
  },
  {
   "cell_type": "code",
   "execution_count": 2,
   "id": "2eb0bc72-7759-486c-8392-622c96dbb797",
   "metadata": {},
   "outputs": [],
   "source": [
    "SYMBOL = \"SOLBTC\""
   ]
  },
  {
   "cell_type": "code",
   "execution_count": 3,
   "id": "7ded7430-8696-4a79-a623-455b835a999c",
   "metadata": {},
   "outputs": [
    {
     "name": "stdout",
     "output_type": "stream",
     "text": [
      "2024-10-15 13:24:19.511452: 0/9, 2023-09-30 00:00:00\n",
      "2024-10-15 13:24:19.925250: 1/9, 2023-11-10 16:00:00\n",
      "2024-10-15 13:24:20.251494: 2/9, 2023-12-22 08:00:00\n",
      "2024-10-15 13:24:20.650797: 3/9, 2024-02-02 00:00:00\n",
      "2024-10-15 13:24:20.960236: 4/9, 2024-03-14 16:00:00\n",
      "2024-10-15 13:24:21.266807: 5/9, 2024-04-25 08:00:00\n",
      "2024-10-15 13:24:21.570987: 6/9, 2024-06-06 00:00:00\n",
      "2024-10-15 13:24:21.883696: 7/9, 2024-07-17 16:00:00\n",
      "2024-10-15 13:24:22.190057: 8/9, 2024-08-28 08:00:00\n"
     ]
    }
   ],
   "source": [
    "df = download_binance_data(symbol=SYMBOL,\n",
    "                           from_date=\"2023-09-30 00:00:00\",\n",
    "                           to_date=\"2024-09-30 00:00:00\",\n",
    "                           c_size=\"1h\")"
   ]
  },
  {
   "cell_type": "code",
   "execution_count": 4,
   "id": "0bac478a-9f18-4763-b947-af49009ccddd",
   "metadata": {},
   "outputs": [
    {
     "data": {
      "text/plain": [
       "(3328, 8783)"
      ]
     },
     "execution_count": 4,
     "metadata": {},
     "output_type": "execute_result"
    }
   ],
   "source": [
    "_get_number_of_positive_events(df_candles=df, hp=timedelta(hours=1), threshold=.005, column_to_track=\"Close__to__Rolling_Max_High__Relative_Difference\")"
   ]
  }
 ],
 "metadata": {
  "kernelspec": {
   "display_name": "Python 3 (ipykernel)",
   "language": "python",
   "name": "python3"
  },
  "language_info": {
   "codemirror_mode": {
    "name": "ipython",
    "version": 3
   },
   "file_extension": ".py",
   "mimetype": "text/x-python",
   "name": "python",
   "nbconvert_exporter": "python",
   "pygments_lexer": "ipython3",
   "version": "3.12.1"
  }
 },
 "nbformat": 4,
 "nbformat_minor": 5
}
